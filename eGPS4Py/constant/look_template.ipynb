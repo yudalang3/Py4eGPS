{
 "cells": [
  {
   "cell_type": "code",
   "id": "initial_id",
   "metadata": {
    "collapsed": true
   },
   "source": [
    "%matplotlib inline\n",
    "import matplotlib\n",
    "matplotlib.style.use('seaborn-v0_8-talk')\n",
    "import numpy as np\n",
    "import matplotlib.pyplot as plt\n",
    "import pandas as pd\n",
    "from pathlib import Path\n",
    "from collections import defaultdict\n",
    "\n",
    "## Myself modules\n",
    "from eGPS4Py.myutils import sets\n",
    "from eGPS4Py.phylo import evoltree"
   ],
   "outputs": [],
   "execution_count": null
  },
  {
   "metadata": {},
   "cell_type": "code",
   "source": [
    "from eGPS4Py.constant.constant import get_hgnc_gene_constant\n",
    "\n",
    "df_hgnc = get_hgnc_gene_constant()\n",
    "target = {'HGNC:11639', 'HGNC:6551', 'HGNC:11640', 'HGNC:11641'}\n",
    "result = df_hgnc[df_hgnc['hgnc_id'].isin(target)]\n"
   ],
   "id": "7f0df430e832689b",
   "outputs": [],
   "execution_count": null
  },
  {
   "metadata": {
    "ExecuteTime": {
     "end_time": "2025-07-08T03:04:23.175778Z",
     "start_time": "2025-07-08T03:04:23.171916Z"
    }
   },
   "cell_type": "code",
   "source": "print(result.iloc[:, 0:3])",
   "id": "3b13f9763c6865e6",
   "outputs": [
    {
     "name": "stdout",
     "output_type": "stream",
     "text": [
      "          hgnc_id  symbol                                name\n",
      "14840   HGNC:6551    LEF1  lymphoid enhancer binding factor 1\n",
      "38502  HGNC:11639    TCF7              transcription factor 7\n",
      "38503  HGNC:11640  TCF7L1       transcription factor 7 like 1\n",
      "38505  HGNC:11641  TCF7L2       transcription factor 7 like 2\n"
     ]
    }
   ],
   "execution_count": 6
  },
  {
   "metadata": {
    "ExecuteTime": {
     "end_time": "2025-07-08T05:04:25.372429Z",
     "start_time": "2025-07-08T05:04:25.360421Z"
    }
   },
   "cell_type": "code",
   "source": [
    "target = {'HGNC:7556', 'HGNC:7555', 'HGNC:7559', 'HGNC:7553'}\n",
    "result = df_hgnc[df_hgnc['hgnc_id'].isin(target)]\n",
    "print(result.iloc[:, 0:3])"
   ],
   "id": "efdbe6212dfcc748",
   "outputs": [
    {
     "name": "stdout",
     "output_type": "stream",
     "text": [
      "         hgnc_id  symbol                                            name\n",
      "21950  HGNC:7553     MYC   MYC proto-oncogene, bHLH transcription factor\n",
      "21956  HGNC:7555    MYCL  MYCL proto-oncogene, bHLH transcription factor\n",
      "21958  HGNC:7556  MYCLP1                               MYCL pseudogene 1\n",
      "21961  HGNC:7559    MYCN  MYCN proto-oncogene, bHLH transcription factor\n"
     ]
    }
   ],
   "execution_count": 8
  },
  {
   "metadata": {
    "ExecuteTime": {
     "end_time": "2025-07-08T05:15:51.399516Z",
     "start_time": "2025-07-08T05:15:51.368067Z"
    }
   },
   "cell_type": "code",
   "source": [
    "target = {'HGNC:904', 'HGNC:903'}\n",
    "result = df_hgnc[df_hgnc['hgnc_id'].isin(target)]\n",
    "print(result.iloc[:, 0:3])"
   ],
   "id": "addc3b1df72d9c65",
   "outputs": [
    {
     "name": "stdout",
     "output_type": "stream",
     "text": [
      "       hgnc_id symbol    name\n",
      "2124  HGNC:903  AXIN1  axin 1\n",
      "2125  HGNC:904  AXIN2  axin 2\n"
     ]
    }
   ],
   "execution_count": 9
  },
  {
   "metadata": {},
   "cell_type": "markdown",
   "source": [
    "！！重要：\n",
    "虽然用于选择和设置的标准 Python / NumPy 表达式直观且便于交互式工作，但对于生产代码，我们推荐使用优化的 pandas 数据访问方法， DataFrame.at() 、 DataFrame.iat() 、 DataFrame.loc() 和 DataFrame.iloc()"
   ],
   "id": "51bac19abd7c653"
  },
  {
   "metadata": {
    "ExecuteTime": {
     "end_time": "2025-07-08T06:06:20.329365Z",
     "start_time": "2025-07-08T06:06:20.310181Z"
    }
   },
   "cell_type": "code",
   "source": [
    "target = {'HGNC:904', 'HGNC:903'}\n",
    "result = df_hgnc.loc[df_hgnc['hgnc_id'].isin(target)]\n",
    "print(result.iloc[:, 0:3])"
   ],
   "id": "7f6c9c3c2fc4553f",
   "outputs": [
    {
     "name": "stdout",
     "output_type": "stream",
     "text": [
      "       hgnc_id symbol    name\n",
      "2124  HGNC:903  AXIN1  axin 1\n",
      "2125  HGNC:904  AXIN2  axin 2\n"
     ]
    }
   ],
   "execution_count": 12
  },
  {
   "metadata": {
    "ExecuteTime": {
     "end_time": "2025-07-08T06:12:36.371063Z",
     "start_time": "2025-07-08T06:12:36.360878Z"
    }
   },
   "cell_type": "code",
   "source": "result.iloc[0:1,0:5]",
   "id": "8758172ddd341484",
   "outputs": [
    {
     "data": {
      "text/plain": [
       "       hgnc_id symbol    name          locus_group                 locus_type\n",
       "2124  HGNC:903  AXIN1  axin 1  protein-coding gene  gene with protein product"
      ],
      "text/html": [
       "<div>\n",
       "<style scoped>\n",
       "    .dataframe tbody tr th:only-of-type {\n",
       "        vertical-align: middle;\n",
       "    }\n",
       "\n",
       "    .dataframe tbody tr th {\n",
       "        vertical-align: top;\n",
       "    }\n",
       "\n",
       "    .dataframe thead th {\n",
       "        text-align: right;\n",
       "    }\n",
       "</style>\n",
       "<table border=\"1\" class=\"dataframe\">\n",
       "  <thead>\n",
       "    <tr style=\"text-align: right;\">\n",
       "      <th></th>\n",
       "      <th>hgnc_id</th>\n",
       "      <th>symbol</th>\n",
       "      <th>name</th>\n",
       "      <th>locus_group</th>\n",
       "      <th>locus_type</th>\n",
       "    </tr>\n",
       "  </thead>\n",
       "  <tbody>\n",
       "    <tr>\n",
       "      <th>2124</th>\n",
       "      <td>HGNC:903</td>\n",
       "      <td>AXIN1</td>\n",
       "      <td>axin 1</td>\n",
       "      <td>protein-coding gene</td>\n",
       "      <td>gene with protein product</td>\n",
       "    </tr>\n",
       "  </tbody>\n",
       "</table>\n",
       "</div>"
      ]
     },
     "execution_count": 32,
     "metadata": {},
     "output_type": "execute_result"
    }
   ],
   "execution_count": 32
  }
 ],
 "metadata": {
  "kernelspec": {
   "display_name": "Python 3",
   "language": "python",
   "name": "python3"
  },
  "language_info": {
   "codemirror_mode": {
    "name": "ipython",
    "version": 2
   },
   "file_extension": ".py",
   "mimetype": "text/x-python",
   "name": "python",
   "nbconvert_exporter": "python",
   "pygments_lexer": "ipython2",
   "version": "2.7.6"
  }
 },
 "nbformat": 4,
 "nbformat_minor": 5
}
